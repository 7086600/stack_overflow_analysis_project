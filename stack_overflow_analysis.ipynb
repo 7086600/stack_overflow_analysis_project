{
 "cells": [
  {
   "cell_type": "markdown",
   "id": "9ec5f4ba",
   "metadata": {},
   "source": [
    "## Explore data"
   ]
  },
  {
   "cell_type": "code",
   "execution_count": 24,
   "id": "758c9fb7",
   "metadata": {},
   "outputs": [],
   "source": [
    "# importing necessary libraries\n",
    "import pandas as pd"
   ]
  },
  {
   "cell_type": "code",
   "execution_count": 25,
   "id": "dd2c34f0",
   "metadata": {},
   "outputs": [],
   "source": [
    "# setting options\n",
    "pd.set_option('display.max_columns', None)\n",
    "pd.set_option(\"display.float_format\", \"{:.2f}\".format)"
   ]
  },
  {
   "cell_type": "code",
   "execution_count": 26,
   "id": "c49d1194",
   "metadata": {},
   "outputs": [
    {
     "name": "stderr",
     "output_type": "stream",
     "text": [
      "/var/folders/f2/dndwwtjn78x_ynlvc2_mj5vc0000gp/T/ipykernel_15001/1180764894.py:1: DtypeWarning: Columns (18,19,20) have mixed types. Specify dtype option on import or set low_memory=False.\n",
      "  df = pd.read_csv('developer_dataset.csv')\n"
     ]
    }
   ],
   "source": [
    "df = pd.read_csv('developer_dataset.csv')"
   ]
  },
  {
   "cell_type": "code",
   "execution_count": 27,
   "id": "46414be3",
   "metadata": {},
   "outputs": [
    {
     "data": {
      "text/plain": [
       "Index(['RespondentID', 'Year', 'Country', 'Employment', 'UndergradMajor',\n",
       "       'DevType', 'LanguageWorkedWith', 'LanguageDesireNextYear',\n",
       "       'DatabaseWorkedWith', 'DatabaseDesireNextYear', 'PlatformWorkedWith',\n",
       "       'PlatformDesireNextYear', 'Hobbyist', 'OrgSize', 'YearsCodePro',\n",
       "       'JobSeek', 'ConvertedComp', 'WorkWeekHrs', 'NEWJobHunt',\n",
       "       'NEWJobHuntResearch', 'NEWLearn'],\n",
       "      dtype='object')"
      ]
     },
     "execution_count": 27,
     "metadata": {},
     "output_type": "execute_result"
    }
   ],
   "source": [
    "# which columns in the data\n",
    "df.columns"
   ]
  },
  {
   "cell_type": "markdown",
   "id": "e0a77e74",
   "metadata": {},
   "source": [
    "The are the following kinds of information:\n",
    "- A variety of columns that identify the person (RespondentID, Year, Country)\n",
    "- Information about their experiences (LanguageWorkedWith, DatabaseWorkedWith, UndergradMajor, etc.)\n",
    "- Information about what they might want to do in the future (LanguageDesireNextYear, DatabaseDesireNextYear, etc.)"
   ]
  },
  {
   "cell_type": "code",
   "execution_count": 28,
   "id": "257d9873",
   "metadata": {},
   "outputs": [
    {
     "data": {
      "text/plain": [
       "RespondentID              111209\n",
       "Year                      111209\n",
       "Country                   111209\n",
       "Employment                109425\n",
       "UndergradMajor             98453\n",
       "DevType                   100433\n",
       "LanguageWorkedWith        102018\n",
       "LanguageDesireNextYear     96044\n",
       "DatabaseWorkedWith         85859\n",
       "DatabaseDesireNextYear     74234\n",
       "PlatformWorkedWith         91609\n",
       "PlatformDesireNextYear     85376\n",
       "Hobbyist                   68352\n",
       "OrgSize                    54804\n",
       "YearsCodePro               94793\n",
       "JobSeek                    60556\n",
       "ConvertedComp              91333\n",
       "WorkWeekHrs                51089\n",
       "NEWJobHunt                 19127\n",
       "NEWJobHuntResearch         18683\n",
       "NEWLearn                   24226\n",
       "dtype: int64"
      ]
     },
     "execution_count": 28,
     "metadata": {},
     "output_type": "execute_result"
    }
   ],
   "source": [
    "# how many rows in the data\n",
    "df.count()"
   ]
  },
  {
   "cell_type": "code",
   "execution_count": 29,
   "id": "e6b71d85",
   "metadata": {},
   "outputs": [
    {
     "data": {
      "text/html": [
       "<div>\n",
       "<style scoped>\n",
       "    .dataframe tbody tr th:only-of-type {\n",
       "        vertical-align: middle;\n",
       "    }\n",
       "\n",
       "    .dataframe tbody tr th {\n",
       "        vertical-align: top;\n",
       "    }\n",
       "\n",
       "    .dataframe thead th {\n",
       "        text-align: right;\n",
       "    }\n",
       "</style>\n",
       "<table border=\"1\" class=\"dataframe\">\n",
       "  <thead>\n",
       "    <tr style=\"text-align: right;\">\n",
       "      <th></th>\n",
       "      <th>RespondentID</th>\n",
       "      <th>Year</th>\n",
       "      <th>YearsCodePro</th>\n",
       "      <th>ConvertedComp</th>\n",
       "      <th>WorkWeekHrs</th>\n",
       "    </tr>\n",
       "  </thead>\n",
       "  <tbody>\n",
       "    <tr>\n",
       "      <th>count</th>\n",
       "      <td>111209.00</td>\n",
       "      <td>111209.00</td>\n",
       "      <td>94793.00</td>\n",
       "      <td>91333.00</td>\n",
       "      <td>51089.00</td>\n",
       "    </tr>\n",
       "    <tr>\n",
       "      <th>mean</th>\n",
       "      <td>19262.04</td>\n",
       "      <td>2018.85</td>\n",
       "      <td>9.55</td>\n",
       "      <td>125177.66</td>\n",
       "      <td>41.05</td>\n",
       "    </tr>\n",
       "    <tr>\n",
       "      <th>std</th>\n",
       "      <td>11767.01</td>\n",
       "      <td>0.78</td>\n",
       "      <td>7.55</td>\n",
       "      <td>246121.76</td>\n",
       "      <td>13.83</td>\n",
       "    </tr>\n",
       "    <tr>\n",
       "      <th>min</th>\n",
       "      <td>1.00</td>\n",
       "      <td>2018.00</td>\n",
       "      <td>0.00</td>\n",
       "      <td>0.00</td>\n",
       "      <td>1.00</td>\n",
       "    </tr>\n",
       "    <tr>\n",
       "      <th>25%</th>\n",
       "      <td>9268.00</td>\n",
       "      <td>2018.00</td>\n",
       "      <td>4.00</td>\n",
       "      <td>46000.00</td>\n",
       "      <td>40.00</td>\n",
       "    </tr>\n",
       "    <tr>\n",
       "      <th>50%</th>\n",
       "      <td>18535.00</td>\n",
       "      <td>2019.00</td>\n",
       "      <td>8.00</td>\n",
       "      <td>79000.00</td>\n",
       "      <td>40.00</td>\n",
       "    </tr>\n",
       "    <tr>\n",
       "      <th>75%</th>\n",
       "      <td>28347.00</td>\n",
       "      <td>2019.00</td>\n",
       "      <td>14.00</td>\n",
       "      <td>120000.00</td>\n",
       "      <td>42.00</td>\n",
       "    </tr>\n",
       "    <tr>\n",
       "      <th>max</th>\n",
       "      <td>42857.00</td>\n",
       "      <td>2020.00</td>\n",
       "      <td>50.00</td>\n",
       "      <td>2000000.00</td>\n",
       "      <td>475.00</td>\n",
       "    </tr>\n",
       "  </tbody>\n",
       "</table>\n",
       "</div>"
      ],
      "text/plain": [
       "       RespondentID      Year  YearsCodePro  ConvertedComp  WorkWeekHrs\n",
       "count     111209.00 111209.00      94793.00       91333.00     51089.00\n",
       "mean       19262.04   2018.85          9.55      125177.66        41.05\n",
       "std        11767.01      0.78          7.55      246121.76        13.83\n",
       "min            1.00   2018.00          0.00           0.00         1.00\n",
       "25%         9268.00   2018.00          4.00       46000.00        40.00\n",
       "50%        18535.00   2019.00          8.00       79000.00        40.00\n",
       "75%        28347.00   2019.00         14.00      120000.00        42.00\n",
       "max        42857.00   2020.00         50.00     2000000.00       475.00"
      ]
     },
     "execution_count": 29,
     "metadata": {},
     "output_type": "execute_result"
    }
   ],
   "source": [
    "# basic summary statistics on the dataset\n",
    "df.describe()"
   ]
  },
  {
   "cell_type": "code",
   "execution_count": 30,
   "id": "d21428d3",
   "metadata": {},
   "outputs": [
    {
     "name": "stdout",
     "output_type": "stream",
     "text": [
      "<class 'pandas.core.frame.DataFrame'>\n",
      "RangeIndex: 111209 entries, 0 to 111208\n",
      "Data columns (total 21 columns):\n",
      " #   Column                  Non-Null Count   Dtype  \n",
      "---  ------                  --------------   -----  \n",
      " 0   RespondentID            111209 non-null  int64  \n",
      " 1   Year                    111209 non-null  int64  \n",
      " 2   Country                 111209 non-null  object \n",
      " 3   Employment              109425 non-null  object \n",
      " 4   UndergradMajor          98453 non-null   object \n",
      " 5   DevType                 100433 non-null  object \n",
      " 6   LanguageWorkedWith      102018 non-null  object \n",
      " 7   LanguageDesireNextYear  96044 non-null   object \n",
      " 8   DatabaseWorkedWith      85859 non-null   object \n",
      " 9   DatabaseDesireNextYear  74234 non-null   object \n",
      " 10  PlatformWorkedWith      91609 non-null   object \n",
      " 11  PlatformDesireNextYear  85376 non-null   object \n",
      " 12  Hobbyist                68352 non-null   object \n",
      " 13  OrgSize                 54804 non-null   object \n",
      " 14  YearsCodePro            94793 non-null   float64\n",
      " 15  JobSeek                 60556 non-null   object \n",
      " 16  ConvertedComp           91333 non-null   float64\n",
      " 17  WorkWeekHrs             51089 non-null   float64\n",
      " 18  NEWJobHunt              19127 non-null   object \n",
      " 19  NEWJobHuntResearch      18683 non-null   object \n",
      " 20  NEWLearn                24226 non-null   object \n",
      "dtypes: float64(3), int64(2), object(16)\n",
      "memory usage: 17.8+ MB\n"
     ]
    }
   ],
   "source": [
    "df.info()"
   ]
  },
  {
   "cell_type": "markdown",
   "id": "0ac8ed69",
   "metadata": {},
   "source": [
    "#### Observations about the dataset\n",
    "\n",
    "The data set contains 21 columns and 111,209 rows.\n",
    "\n",
    "The are columns: NEWJobHunt, NEWJobHuntResearch, NEWLearn - those have a lot of missing values.\n",
    "\n",
    "The intresting columns are:\n",
    "- ConvertedComp\n",
    "- LanguageWorkedWith\n",
    "- WorkWeekHrs\n",
    "\n",
    "It is interesting to see how the salary is related to the programming languages that people use, and how many hours they work per week."
   ]
  },
  {
   "cell_type": "markdown",
   "id": "0400d26a",
   "metadata": {},
   "source": [
    "## Delete highly missing data"
   ]
  },
  {
   "cell_type": "code",
   "execution_count": 31,
   "id": "fdea412f",
   "metadata": {},
   "outputs": [
    {
     "name": "stdout",
     "output_type": "stream",
     "text": [
      "% Missing Data:\n",
      "RespondentID              0.00\n",
      "Year                      0.00\n",
      "Country                   0.00\n",
      "Employment                1.60\n",
      "UndergradMajor           11.47\n",
      "DevType                   9.69\n",
      "LanguageWorkedWith        8.26\n",
      "LanguageDesireNextYear   13.64\n",
      "DatabaseWorkedWith       22.79\n",
      "DatabaseDesireNextYear   33.25\n",
      "PlatformWorkedWith       17.62\n",
      "PlatformDesireNextYear   23.23\n",
      "Hobbyist                 38.54\n",
      "OrgSize                  50.72\n",
      "YearsCodePro             14.76\n",
      "JobSeek                  45.55\n",
      "ConvertedComp            17.87\n",
      "WorkWeekHrs              54.06\n",
      "NEWJobHunt               82.80\n",
      "NEWJobHuntResearch       83.20\n",
      "NEWLearn                 78.22\n",
      "dtype: float64\n"
     ]
    }
   ],
   "source": [
    "# the percentage missing data for each column\n",
    "maxRows = df['RespondentID'].count()\n",
    "print('% Missing Data:')\n",
    "print((1 - df.count() / maxRows) * 100)"
   ]
  },
  {
   "cell_type": "markdown",
   "id": "b7cf9a19",
   "metadata": {},
   "source": [
    "Based on the above numbers, it is safe to remove the following columns (because they have more than 60% missing values):\n",
    "\n",
    "- NEWJobHunt\n",
    "- NEWJobHuntResearch\n",
    "- NEWLearn"
   ]
  },
  {
   "cell_type": "code",
   "execution_count": null,
   "id": "c3b8c0dc",
   "metadata": {},
   "outputs": [],
   "source": [
    "df.drop(columns=['NEWJobHunt', 'NEWJobHuntResearch', 'NEWLearn'], axis=1, inplace=True)"
   ]
  },
  {
   "cell_type": "code",
   "execution_count": 33,
   "id": "7a9060c7",
   "metadata": {},
   "outputs": [
    {
     "data": {
      "text/plain": [
       "Index(['RespondentID', 'Year', 'Country', 'Employment', 'UndergradMajor',\n",
       "       'DevType', 'LanguageWorkedWith', 'LanguageDesireNextYear',\n",
       "       'DatabaseWorkedWith', 'DatabaseDesireNextYear', 'PlatformWorkedWith',\n",
       "       'PlatformDesireNextYear', 'Hobbyist', 'OrgSize', 'YearsCodePro',\n",
       "       'JobSeek', 'ConvertedComp', 'WorkWeekHrs'],\n",
       "      dtype='object')"
      ]
     },
     "execution_count": 33,
     "metadata": {},
     "output_type": "execute_result"
    }
   ],
   "source": [
    "df.columns"
   ]
  }
 ],
 "metadata": {
  "kernelspec": {
   "display_name": "base",
   "language": "python",
   "name": "python3"
  },
  "language_info": {
   "codemirror_mode": {
    "name": "ipython",
    "version": 3
   },
   "file_extension": ".py",
   "mimetype": "text/x-python",
   "name": "python",
   "nbconvert_exporter": "python",
   "pygments_lexer": "ipython3",
   "version": "3.11.5"
  }
 },
 "nbformat": 4,
 "nbformat_minor": 5
}
